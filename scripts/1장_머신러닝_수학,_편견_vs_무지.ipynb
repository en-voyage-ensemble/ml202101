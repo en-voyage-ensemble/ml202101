{
  "nbformat": 4,
  "nbformat_minor": 0,
  "metadata": {
    "colab": {
      "name": "1장 머신러닝 수학, 편견 vs 무지.ipynb",
      "provenance": [],
      "collapsed_sections": [
        "YIkpJF1dubCA",
        "_epgeDuF0Ec9"
      ],
      "authorship_tag": "ABX9TyNhD9i2HUekEMQETAqAPt03",
      "include_colab_link": true
    },
    "kernelspec": {
      "name": "python3",
      "display_name": "Python 3"
    }
  },
  "cells": [
    {
      "cell_type": "markdown",
      "metadata": {
        "id": "view-in-github",
        "colab_type": "text"
      },
      "source": [
        "<a href=\"https://colab.research.google.com/github/en-voyage-ensemble/ml202101/blob/main/1%EC%9E%A5_%EB%A8%B8%EC%8B%A0%EB%9F%AC%EB%8B%9D_%EC%88%98%ED%95%99%2C_%ED%8E%B8%EA%B2%AC_vs_%EB%AC%B4%EC%A7%80.ipynb\" target=\"_parent\"><img src=\"https://colab.research.google.com/assets/colab-badge.svg\" alt=\"Open In Colab\"/></a>"
      ]
    },
    {
      "cell_type": "markdown",
      "metadata": {
        "id": "LzlnCLtkKxvj"
      },
      "source": [
        "# 0. 머신러닝 활용 사례"
      ]
    },
    {
      "cell_type": "markdown",
      "metadata": {
        "id": "LwYjwJ0nLVK1"
      },
      "source": [
        "### Face Mask Detection with YOLOv4 DEMO\n",
        "https://www.youtube.com/watch?v=yPTLc6FmQCM"
      ]
    },
    {
      "cell_type": "markdown",
      "metadata": {
        "id": "vQtaQvxmLU6l"
      },
      "source": [
        "### YOLOv4 - The most accurate real-time neural network for object detection\n",
        "https://www.youtube.com/watch?v=1_SiUOYUoOI"
      ]
    },
    {
      "cell_type": "markdown",
      "metadata": {
        "id": "Z-fC54RZQEHx"
      },
      "source": [
        "### [GAN](http://jaejunyoo.blogspot.com/2017/02/deep-convolutional-gan-dcgan-1.html)\n",
        "<img src=\"http://4.bp.blogspot.com/-0rilHKMWwTQ/WKFnwwv5QUI/AAAAAAAABRc/jDewod7JSikDgY5Xn957yPNzpCy4ZXmhwCK4B/s1600/dcgan-vector-arithmatic.PNG\"/>"
      ]
    },
    {
      "cell_type": "markdown",
      "metadata": {
        "id": "YIkpJF1dubCA"
      },
      "source": [
        "# 1. 초등학교 수학 vs. 머신러닝 수학"
      ]
    },
    {
      "cell_type": "markdown",
      "metadata": {
        "id": "Xf-67FEQztak"
      },
      "source": [
        "## [문제] 학과 거북이가 모두 10마리 있다. 다리를 모두 더하면 38개이다. 학과 거북이는 각각 몇 마리인가요?\n"
      ]
    },
    {
      "cell_type": "markdown",
      "metadata": {
        "id": "oAtjWL4879kq"
      },
      "source": [
        "### 초등 수학\n",
        "\n",
        "[풀이] 먼저 모두 거북이라는 가정을 합니다. 이러한 가정 하에 다리는 모두 40개가 됩니다. \n",
        "\n",
        "하지만 실제 다리의 수는 38개이지요. 이제 이 차이에 대해 생각해 볼 차례입니다. 여기서 ‘모두 거북이’라는 가정이 틀렸다는 것을 받아들이고, 그 차이는 거북이가 1마리 적고, 두루미가 1마리 많기 때문에 생겼다는 것을 찾아냅니다.\n",
        "\n",
        "### 중등 수학\n",
        "[풀이] 학 $x$마리 거북이 $y$마리로 방정식을 만들고 사칙연산을 사용하여 계산\n",
        ">$x + y = 10$\n",
        "\n",
        ">$2x + 4y = 38$\n",
        "\n",
        "### 고등 수학\n",
        "[풀이] 방정식을 행렬을 이용하여 계산\n",
        ">$\\begin{bmatrix} 1 & 1 \\\\ 2 & 4\\end{bmatrix} \n",
        "\\begin{bmatrix} x \\\\ y \\end{bmatrix} = \n",
        "\\begin{bmatrix} 10 \\\\ 38 \\end{bmatrix} $\n"
      ]
    },
    {
      "cell_type": "code",
      "metadata": {
        "id": "Vjgzbj5e9FhF"
      },
      "source": [
        "import numpy as np\n",
        "import matplotlib.pyplot as plt\n",
        "from sklearn import linear_model"
      ],
      "execution_count": null,
      "outputs": []
    },
    {
      "cell_type": "code",
      "metadata": {
        "colab": {
          "base_uri": "https://localhost:8080/"
        },
        "id": "l8uaF4uU-D4e",
        "outputId": "01aeefc8-2313-42b1-824b-30ac71afce74"
      },
      "source": [
        "a = np.array([[1, 1], \n",
        "              [2, 4]])\n",
        "b = np.array([10, 38])\n",
        "print('역행렬을 곱해서 풀기', np.dot(np.linalg.inv(a), b))"
      ],
      "execution_count": null,
      "outputs": [
        {
          "output_type": "stream",
          "text": [
            "역행렬을 곱해서 풀기 [1. 9.]\n"
          ],
          "name": "stdout"
        }
      ]
    },
    {
      "cell_type": "markdown",
      "metadata": {
        "id": "2z_-WfiMrckf"
      },
      "source": [
        "## [문제] 꼬북칩을 좋아하는 철수는 5000원으로 일주일(7일)간 하루에 하나씩 먹을 과자를 어떻게 고를까요?"
      ]
    },
    {
      "cell_type": "markdown",
      "metadata": {
        "id": "oQJDi7HYnPqU"
      },
      "source": [
        "### 초등 수학\n",
        "<pre>\n",
        "[풀이] 꼬북칩을 좋아하는 철수는 1000원 짜리 꼬북칩을 7개 골라서 계산을 해보니 7000원으로 2000원이 부족합니다. \n",
        "그래서 꼬북칩을 2개를 빼고 550원 짜리 빼빼로로 바꿔서 계산해보니 61000원 으로 여전히 1100원이 부족합니다.\n",
        "5000원으로 살 수 있을 때까지 계속 반복합니다.\n",
        "빼빼로 3개, 꼬북칩 4개 : 5650원 (650원 부족)\n",
        "빼빼로 4개, 꼬북칩 3개 : 5200원 (200원 부족)\n",
        "빼빼로 5개, 꼬북칩 2개 : 5200원 (250원 남음)\n",
        "</pre>\n",
        "\n",
        "### 중등 수학\n",
        "[풀이] 빼빼로 $x$개 꼬북칩 $y$개로 방정식을 만들고 사칙연산을 사용하여 계산\n",
        ">$x + y = 7$\n",
        "\n",
        ">$550x + 1000y = 5000$\n",
        "\n",
        "### 고등 수학\n",
        "[풀이] 방정식을 행렬을 이용하여 계산\n",
        ">$\\begin{bmatrix} 1 & 1 \\\\ 550 & 1000\\end{bmatrix} \n",
        "\\begin{bmatrix} x \\\\ y \\end{bmatrix} = \n",
        "\\begin{bmatrix} 7 \\\\ 5000 \\end{bmatrix} $\n",
        "\n",
        "### 머신러닝 수학\n",
        "- 대수(선형 대수, linear algebra), \n",
        "- 손실 함수(Loss function), \n",
        "- 미분, 편미분, \n",
        "- 경사하강법(Gradient descent), \n",
        "- 학습률(Learning Rate)"
      ]
    },
    {
      "cell_type": "code",
      "metadata": {
        "colab": {
          "base_uri": "https://localhost:8080/"
        },
        "id": "XHd_WNbanPPl",
        "outputId": "f32f86e9-4492-470b-adea-ac8adc2bb742"
      },
      "source": [
        "a = np.array([[1, 1], \n",
        "              [550, 1000]])\n",
        "b = np.array([7, 5000])\n",
        "print('연립방정식 풀기', np.linalg.solve(a, b))"
      ],
      "execution_count": null,
      "outputs": [
        {
          "output_type": "stream",
          "text": [
            "연립방정식 풀기 [4.44444444 2.55555556]\n"
          ],
          "name": "stdout"
        }
      ]
    },
    {
      "cell_type": "markdown",
      "metadata": {
        "id": "1BhP0y7o3dVn"
      },
      "source": [
        "# **[철수 결과]** 빼빼로 5개, 꼬북칩 2개 : 5200원 (250원 남음)\n",
        "\n",
        "# **[연립방정식 결과]** 빼빼로 4.44개, 꼬북칩 2.56개"
      ]
    },
    {
      "cell_type": "markdown",
      "metadata": {
        "id": "_epgeDuF0Ec9"
      },
      "source": [
        "# 2. 편견 과 무지 vs.  과적합(overfitting) 과 과소적합(underfitting)"
      ]
    },
    {
      "cell_type": "code",
      "metadata": {
        "id": "nf-XbVmMoBSp"
      },
      "source": [
        "# 결과를 알고 있는 과거의 경험\n",
        "data = np.array([[1, 1.5], [2, 2.7], [3, 2.9], [3.5, 3.8]])\n",
        "\n",
        "# 새로운 경험\n",
        "X_new = np.array([[1.5], [4.2]])"
      ],
      "execution_count": null,
      "outputs": []
    },
    {
      "cell_type": "code",
      "metadata": {
        "colab": {
          "base_uri": "https://localhost:8080/",
          "height": 269
        },
        "id": "MnVhctKgoNAc",
        "outputId": "3233d7a0-3064-4287-bb1d-8247858b05d8"
      },
      "source": [
        "# 시각화\n",
        "plt.scatter(data[:,0], data[:,1], s=100)\n",
        "\n",
        "plt.plot([[1.5], [1.5]], np.array([[0.5], [4.8]]), 'r--')\n",
        "plt.plot([[4.2], [4.2]], np.array([[0.5], [4.8]]), 'r--')\n",
        "plt.scatter(X_new, np.array([[0], [0]]), s=100, marker='o', c=\"r\")\n",
        "plt.axis([0, 5, 0, 5])\n",
        "plt.show()"
      ],
      "execution_count": null,
      "outputs": [
        {
          "output_type": "display_data",
          "data": {
            "image/png": "[encoded data removed]",
            "text/plain": [
              "<Figure size 432x288 with 1 Axes>"
            ]
          },
          "metadata": {
            "tags": [],
            "needs_background": "light"
          }
        }
      ]
    },
    {
      "cell_type": "markdown",
      "metadata": {
        "id": "20mVfL2PI-C5"
      },
      "source": [
        "### 학습하기"
      ]
    },
    {
      "cell_type": "code",
      "metadata": {
        "id": "bbOd4IRDoQJG",
        "colab": {
          "base_uri": "https://localhost:8080/"
        },
        "outputId": "494a66ac-11b2-4174-fe4a-3934b31e0486"
      },
      "source": [
        "# 학습을 위한 전처리\n",
        "X = data[:,0].reshape(-1, 1)\n",
        "X4 = np.concatenate((X, X**2, X**3, X**4), axis=1)\n",
        "\n",
        "y = data[:, 1].reshape(-1, 1)\n",
        "\n",
        "# 학습\n",
        "lin1 = linear_model.LinearRegression()\n",
        "lin1.fit(X, y)\n",
        "\n",
        "lin4 = linear_model.LinearRegression()\n",
        "lin4.fit(X4, y)\n"
      ],
      "execution_count": null,
      "outputs": [
        {
          "output_type": "execute_result",
          "data": {
            "text/plain": [
              "LinearRegression(copy_X=True, fit_intercept=True, n_jobs=None, normalize=False)"
            ]
          },
          "metadata": {
            "tags": []
          },
          "execution_count": 7
        }
      ]
    },
    {
      "cell_type": "code",
      "metadata": {
        "id": "XQuxS_D-0DkQ",
        "colab": {
          "base_uri": "https://localhost:8080/",
          "height": 596
        },
        "outputId": "592dee6f-3134-402a-bfaa-d66c23624e65"
      },
      "source": [
        "plt.figure(figsize=(15, 10))\n",
        "\n",
        "plt.scatter(X, y, s=100)\n",
        "plt.axis([0, 6, 0, 5])\n",
        "\n",
        "# 예측\n",
        "X_line = np.linspace(0, 15, 1000).reshape(-1, 1)\n",
        "X4_line = np.concatenate((X_line, X_line**2, X_line**3, X_line**4), axis=1)\n",
        "\n",
        "#plt.plot(X, lin1.intercept_[0] + lin1.coef_[0][0]*X , \"b\")\n",
        "plt.plot(X_line, lin1.predict(X_line), \"b\")\n",
        "plt.plot(X_line, lin4.predict(X4_line), \"r\")\n",
        "\n",
        "X_new = np.array([[1.5], [4.2]])\n",
        "X4_new = np.concatenate((X_new, X_new**2, X_new**3, X_new**4), axis=1)\n",
        "\n",
        "plt.scatter(X_new, lin1.predict(X_new), s=500, marker='*', c=\"b\")\n",
        "plt.scatter(X_new, lin4.predict(X4_new), s=500, marker='*', c=\"r\")\n",
        "\n",
        "plt.show()"
      ],
      "execution_count": null,
      "outputs": [
        {
          "output_type": "display_data",
          "data": {
            "image/png": "[encoded data removed]",
            "text/plain": [
              "<Figure size 1080x720 with 1 Axes>"
            ]
          },
          "metadata": {
            "tags": [],
            "needs_background": "light"
          }
        }
      ]
    },
    {
      "cell_type": "code",
      "metadata": {
        "id": "NlBwbr3UrpH3",
        "colab": {
          "base_uri": "https://localhost:8080/",
          "height": 596
        },
        "outputId": "7344a877-26cf-498a-f208-028469d1e4db"
      },
      "source": [
        "plt.figure(figsize=(6, 10))\n",
        "\n",
        "plt.scatter(X, y, s=100)\n",
        "plt.axis([0, 6, 0, 10])\n",
        "\n",
        "# 예측\n",
        "X_line = np.linspace(0, 15, 1000).reshape(-1, 1)\n",
        "X4_line = np.concatenate((X_line, X_line**2, X_line**3, X_line**4), axis=1)\n",
        "\n",
        "#plt.plot(X, lin1.intercept_[0] + lin1.coef_[0][0]*X , \"b\")\n",
        "plt.plot(X_line, lin1.predict(X_line), \"b\")\n",
        "plt.plot(X_line, lin4.predict(X4_line), \"r\")\n",
        "\n",
        "X_new = np.array([[1.5], [4.2]])\n",
        "X4_new = np.concatenate((X_new, X_new**2, X_new**3, X_new**4), axis=1)\n",
        "\n",
        "plt.scatter(X_new, lin1.predict(X_new), s=500, marker='*', c=\"b\")\n",
        "plt.scatter(X_new, lin4.predict(X4_new), s=500, marker='*', c=\"r\")\n",
        "\n",
        "plt.show()"
      ],
      "execution_count": null,
      "outputs": [
        {
          "output_type": "display_data",
          "data": {
            "image/png": "[encoded data removed]",
            "text/plain": [
              "<Figure size 432x720 with 1 Axes>"
            ]
          },
          "metadata": {
            "tags": [],
            "needs_background": "light"
          }
        }
      ]
    },
    {
      "cell_type": "code",
      "metadata": {
        "id": "eAK2mDE8sU8_"
      },
      "source": [
        ""
      ],
      "execution_count": null,
      "outputs": []
    }
  ]
}